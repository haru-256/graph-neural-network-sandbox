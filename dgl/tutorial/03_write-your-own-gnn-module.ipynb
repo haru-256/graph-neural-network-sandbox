{
 "cells": [
  {
   "cell_type": "markdown",
   "metadata": {},
   "source": [
    "# Write your own GNN module\n",
    "\n",
    "https://docs.dgl.ai/en/0.9.x/tutorials/blitz/3_message_passing.html#sphx-glr-tutorials-blitz-3-message-passing-py"
   ]
  },
  {
   "cell_type": "code",
   "execution_count": 1,
   "metadata": {},
   "outputs": [],
   "source": [
    "import os\n",
    "\n",
    "os.environ[\"DGLBACKEND\"] = \"pytorch\""
   ]
  },
  {
   "cell_type": "code",
   "execution_count": 2,
   "metadata": {},
   "outputs": [],
   "source": [
    "import dgl\n",
    "import torch\n",
    "import torch.nn as nn\n",
    "import torch.nn.functional as F"
   ]
  },
  {
   "cell_type": "markdown",
   "metadata": {},
   "source": [
    "## Message passing and GNNs"
   ]
  },
  {
   "cell_type": "code",
   "execution_count": 3,
   "metadata": {},
   "outputs": [],
   "source": [
    "import dgl.function as fn\n",
    "\n",
    "class SAGEConv(nn.Module):\n",
    "    \"\"\"Graph convolution module used by the GraphSAGE model.\n",
    "\n",
    "    Parameters\n",
    "    ----------\n",
    "    in_feat : int\n",
    "        Input feature size.\n",
    "    out_feat : int\n",
    "        Output feature size.\n",
    "    \"\"\"\n",
    "    def __init__(self, in_feat, out_feat):\n",
    "        super(SAGEConv, self).__init__()\n",
    "        # A linear submodule for projecting the input and neighbor feature to the output.\n",
    "        self.linear = nn.Linear(in_feat * 2, out_feat)\n",
    "\n",
    "    def forward(self, g, h):\n",
    "        \"\"\"Forward computation\n",
    "\n",
    "        Parameters\n",
    "        ----------\n",
    "        g : Graph\n",
    "            The input graph.\n",
    "        h : Tensor\n",
    "            The input node feature.\n",
    "        \"\"\"\n",
    "        with g.local_scope():\n",
    "            g.ndata['h'] = h\n",
    "            # update_all is a message passing API.\n",
    "            g.update_all(message_func=fn.copy_u('h', 'm'), reduce_func=fn.mean('m', 'h_N'))\n",
    "            h_N = g.ndata['h_N']\n",
    "            h_total = torch.cat([h, h_N], dim=1)\n",
    "            return self.linear(h_total)"
   ]
  },
  {
   "cell_type": "code",
   "execution_count": 4,
   "metadata": {},
   "outputs": [],
   "source": [
    "class Model(nn.Module):\n",
    "    def __init__(self, in_feats, h_feats, num_classes):\n",
    "        super(Model, self).__init__()\n",
    "        self.conv1 = SAGEConv(in_feats, h_feats)\n",
    "        self.conv2 = SAGEConv(h_feats, num_classes)\n",
    "\n",
    "    def forward(self, g, in_feat):\n",
    "        h = self.conv1(g, in_feat)\n",
    "        h = F.relu(h)\n",
    "        h = self.conv2(g, h)\n",
    "        return h"
   ]
  },
  {
   "cell_type": "code",
   "execution_count": 5,
   "metadata": {},
   "outputs": [
    {
     "name": "stdout",
     "output_type": "stream",
     "text": [
      "  NumNodes: 2708\n",
      "  NumEdges: 10556\n",
      "  NumFeats: 1433\n",
      "  NumClasses: 7\n",
      "  NumTrainingSamples: 140\n",
      "  NumValidationSamples: 500\n",
      "  NumTestSamples: 1000\n",
      "Done loading data from cached files.\n",
      "In epoch 0, loss: 1.952, val acc: 0.122 (best 0.122), test acc: 0.130 (best 0.130)\n",
      "In epoch 5, loss: 1.884, val acc: 0.194 (best 0.194), test acc: 0.199 (best 0.199)\n",
      "In epoch 10, loss: 1.752, val acc: 0.400 (best 0.400), test acc: 0.391 (best 0.391)\n",
      "In epoch 15, loss: 1.547, val acc: 0.486 (best 0.486), test acc: 0.488 (best 0.488)\n",
      "In epoch 20, loss: 1.274, val acc: 0.562 (best 0.562), test acc: 0.573 (best 0.573)\n",
      "In epoch 25, loss: 0.964, val acc: 0.638 (best 0.638), test acc: 0.634 (best 0.634)\n",
      "In epoch 30, loss: 0.663, val acc: 0.692 (best 0.692), test acc: 0.697 (best 0.697)\n",
      "In epoch 35, loss: 0.416, val acc: 0.712 (best 0.712), test acc: 0.725 (best 0.721)\n",
      "In epoch 40, loss: 0.245, val acc: 0.728 (best 0.728), test acc: 0.743 (best 0.743)\n",
      "In epoch 45, loss: 0.143, val acc: 0.736 (best 0.736), test acc: 0.748 (best 0.745)\n",
      "In epoch 50, loss: 0.085, val acc: 0.730 (best 0.738), test acc: 0.749 (best 0.750)\n",
      "In epoch 55, loss: 0.054, val acc: 0.730 (best 0.738), test acc: 0.744 (best 0.750)\n",
      "In epoch 60, loss: 0.037, val acc: 0.730 (best 0.738), test acc: 0.744 (best 0.750)\n",
      "In epoch 65, loss: 0.027, val acc: 0.734 (best 0.738), test acc: 0.746 (best 0.750)\n",
      "In epoch 70, loss: 0.020, val acc: 0.732 (best 0.738), test acc: 0.749 (best 0.750)\n",
      "In epoch 75, loss: 0.017, val acc: 0.732 (best 0.738), test acc: 0.751 (best 0.750)\n",
      "In epoch 80, loss: 0.014, val acc: 0.732 (best 0.738), test acc: 0.752 (best 0.750)\n",
      "In epoch 85, loss: 0.012, val acc: 0.736 (best 0.738), test acc: 0.751 (best 0.750)\n",
      "In epoch 90, loss: 0.011, val acc: 0.734 (best 0.738), test acc: 0.754 (best 0.750)\n",
      "In epoch 95, loss: 0.010, val acc: 0.732 (best 0.738), test acc: 0.753 (best 0.750)\n",
      "In epoch 100, loss: 0.009, val acc: 0.732 (best 0.738), test acc: 0.751 (best 0.750)\n",
      "In epoch 105, loss: 0.008, val acc: 0.730 (best 0.738), test acc: 0.751 (best 0.750)\n",
      "In epoch 110, loss: 0.007, val acc: 0.730 (best 0.738), test acc: 0.750 (best 0.750)\n",
      "In epoch 115, loss: 0.007, val acc: 0.730 (best 0.738), test acc: 0.750 (best 0.750)\n",
      "In epoch 120, loss: 0.006, val acc: 0.730 (best 0.738), test acc: 0.751 (best 0.750)\n",
      "In epoch 125, loss: 0.006, val acc: 0.730 (best 0.738), test acc: 0.751 (best 0.750)\n",
      "In epoch 130, loss: 0.006, val acc: 0.730 (best 0.738), test acc: 0.751 (best 0.750)\n",
      "In epoch 135, loss: 0.005, val acc: 0.730 (best 0.738), test acc: 0.751 (best 0.750)\n",
      "In epoch 140, loss: 0.005, val acc: 0.730 (best 0.738), test acc: 0.751 (best 0.750)\n",
      "In epoch 145, loss: 0.005, val acc: 0.730 (best 0.738), test acc: 0.751 (best 0.750)\n",
      "In epoch 150, loss: 0.004, val acc: 0.730 (best 0.738), test acc: 0.751 (best 0.750)\n",
      "In epoch 155, loss: 0.004, val acc: 0.730 (best 0.738), test acc: 0.751 (best 0.750)\n",
      "In epoch 160, loss: 0.004, val acc: 0.730 (best 0.738), test acc: 0.751 (best 0.750)\n",
      "In epoch 165, loss: 0.004, val acc: 0.730 (best 0.738), test acc: 0.751 (best 0.750)\n",
      "In epoch 170, loss: 0.004, val acc: 0.730 (best 0.738), test acc: 0.751 (best 0.750)\n",
      "In epoch 175, loss: 0.003, val acc: 0.732 (best 0.738), test acc: 0.751 (best 0.750)\n",
      "In epoch 180, loss: 0.003, val acc: 0.732 (best 0.738), test acc: 0.753 (best 0.750)\n",
      "In epoch 185, loss: 0.003, val acc: 0.732 (best 0.738), test acc: 0.753 (best 0.750)\n",
      "In epoch 190, loss: 0.003, val acc: 0.730 (best 0.738), test acc: 0.753 (best 0.750)\n",
      "In epoch 195, loss: 0.003, val acc: 0.730 (best 0.738), test acc: 0.753 (best 0.750)\n"
     ]
    }
   ],
   "source": [
    "import dgl.data\n",
    "\n",
    "dataset = dgl.data.CoraGraphDataset()\n",
    "g = dataset[0]\n",
    "\n",
    "def train(g, model):\n",
    "    optimizer = torch.optim.Adam(model.parameters(), lr=0.01)\n",
    "    all_logits = []\n",
    "    best_val_acc = 0\n",
    "    best_test_acc = 0\n",
    "\n",
    "    features = g.ndata['feat']\n",
    "    labels = g.ndata['label']\n",
    "    train_mask = g.ndata['train_mask']\n",
    "    val_mask = g.ndata['val_mask']\n",
    "    test_mask = g.ndata['test_mask']\n",
    "    for e in range(200):\n",
    "        # Forward\n",
    "        logits = model(g, features)\n",
    "\n",
    "        # Compute prediction\n",
    "        pred = logits.argmax(1)\n",
    "\n",
    "        # Compute loss\n",
    "        # Note that we should only compute the losses of the nodes in the training set,\n",
    "        # i.e. with train_mask 1.\n",
    "        loss = F.cross_entropy(logits[train_mask], labels[train_mask])\n",
    "\n",
    "        # Compute accuracy on training/validation/test\n",
    "        train_acc = (pred[train_mask] == labels[train_mask]).float().mean()\n",
    "        val_acc = (pred[val_mask] == labels[val_mask]).float().mean()\n",
    "        test_acc = (pred[test_mask] == labels[test_mask]).float().mean()\n",
    "\n",
    "        # Save the best validation accuracy and the corresponding test accuracy.\n",
    "        if best_val_acc < val_acc:\n",
    "            best_val_acc = val_acc\n",
    "            best_test_acc = test_acc\n",
    "\n",
    "        # Backward\n",
    "        optimizer.zero_grad()\n",
    "        loss.backward()\n",
    "        optimizer.step()\n",
    "        all_logits.append(logits.detach())\n",
    "\n",
    "        if e % 5 == 0:\n",
    "            print('In epoch {}, loss: {:.3f}, val acc: {:.3f} (best {:.3f}), test acc: {:.3f} (best {:.3f})'.format(\n",
    "                e, loss, val_acc, best_val_acc, test_acc, best_test_acc))\n",
    "\n",
    "model = Model(g.ndata['feat'].shape[1], 16, dataset.num_classes)\n",
    "train(g, model)"
   ]
  },
  {
   "cell_type": "code",
   "execution_count": 6,
   "metadata": {},
   "outputs": [
    {
     "data": {
      "text/plain": [
       "{'feat': tensor([[0., 0., 0.,  ..., 0., 0., 0.],\n",
       "        [0., 0., 0.,  ..., 0., 0., 0.],\n",
       "        [0., 0., 0.,  ..., 0., 0., 0.],\n",
       "        ...,\n",
       "        [0., 0., 0.,  ..., 0., 0., 0.],\n",
       "        [0., 0., 0.,  ..., 0., 0., 0.],\n",
       "        [0., 0., 0.,  ..., 0., 0., 0.]]), 'label': tensor([3, 4, 4,  ..., 3, 3, 3]), 'val_mask': tensor([False, False, False,  ..., False, False, False]), 'test_mask': tensor([False, False, False,  ...,  True,  True,  True]), 'train_mask': tensor([ True,  True,  True,  ..., False, False, False])}"
      ]
     },
     "execution_count": 6,
     "metadata": {},
     "output_type": "execute_result"
    }
   ],
   "source": [
    "g.ndata"
   ]
  },
  {
   "cell_type": "markdown",
   "metadata": {},
   "source": [
    "## More customization"
   ]
  },
  {
   "cell_type": "code",
   "execution_count": 7,
   "metadata": {},
   "outputs": [],
   "source": [
    "class WeightedSAGEConv(nn.Module):\n",
    "    \"\"\"Graph convolution module used by the GraphSAGE model with edge weights.\n",
    "\n",
    "    Parameters\n",
    "    ----------\n",
    "    in_feat : int\n",
    "        Input feature size.\n",
    "    out_feat : int\n",
    "        Output feature size.\n",
    "    \"\"\"\n",
    "    def __init__(self, in_feat, out_feat):\n",
    "        super(WeightedSAGEConv, self).__init__()\n",
    "        # A linear submodule for projecting the input and neighbor feature to the output.\n",
    "        self.linear = nn.Linear(in_feat * 2, out_feat)\n",
    "\n",
    "    def forward(self, g, h, w):\n",
    "        \"\"\"Forward computation\n",
    "\n",
    "        Parameters\n",
    "        ----------\n",
    "        g : Graph\n",
    "            The input graph.\n",
    "        h : Tensor\n",
    "            The input node feature.\n",
    "        w : Tensor\n",
    "            The edge weight.\n",
    "        \"\"\"\n",
    "        with g.local_scope():\n",
    "            g.ndata['h'] = h\n",
    "            g.edata['w'] = w\n",
    "            g.update_all(message_func=fn.u_mul_e('h', 'w', 'm'), reduce_func=fn.mean('m', 'h_N'))\n",
    "            h_N = g.ndata['h_N']\n",
    "            h_total = torch.cat([h, h_N], dim=1)\n",
    "            return self.linear(h_total)"
   ]
  },
  {
   "cell_type": "code",
   "execution_count": 8,
   "metadata": {},
   "outputs": [
    {
     "name": "stdout",
     "output_type": "stream",
     "text": [
      "In epoch 0, loss: 1.951, val acc: 0.316 (best 0.316), test acc: 0.319 (best 0.319)\n",
      "In epoch 5, loss: 1.871, val acc: 0.320 (best 0.320), test acc: 0.326 (best 0.326)\n",
      "In epoch 10, loss: 1.721, val acc: 0.538 (best 0.580), test acc: 0.525 (best 0.576)\n",
      "In epoch 15, loss: 1.503, val acc: 0.512 (best 0.580), test acc: 0.493 (best 0.576)\n",
      "In epoch 20, loss: 1.230, val acc: 0.568 (best 0.580), test acc: 0.531 (best 0.576)\n",
      "In epoch 25, loss: 0.937, val acc: 0.622 (best 0.622), test acc: 0.595 (best 0.595)\n",
      "In epoch 30, loss: 0.660, val acc: 0.698 (best 0.698), test acc: 0.683 (best 0.683)\n",
      "In epoch 35, loss: 0.429, val acc: 0.728 (best 0.728), test acc: 0.732 (best 0.732)\n",
      "In epoch 40, loss: 0.262, val acc: 0.746 (best 0.746), test acc: 0.756 (best 0.756)\n",
      "In epoch 45, loss: 0.156, val acc: 0.756 (best 0.760), test acc: 0.763 (best 0.763)\n",
      "In epoch 50, loss: 0.095, val acc: 0.754 (best 0.760), test acc: 0.762 (best 0.763)\n",
      "In epoch 55, loss: 0.060, val acc: 0.754 (best 0.760), test acc: 0.763 (best 0.763)\n",
      "In epoch 60, loss: 0.041, val acc: 0.754 (best 0.760), test acc: 0.766 (best 0.763)\n",
      "In epoch 65, loss: 0.029, val acc: 0.748 (best 0.760), test acc: 0.765 (best 0.763)\n",
      "In epoch 70, loss: 0.022, val acc: 0.750 (best 0.760), test acc: 0.767 (best 0.763)\n",
      "In epoch 75, loss: 0.018, val acc: 0.748 (best 0.760), test acc: 0.767 (best 0.763)\n",
      "In epoch 80, loss: 0.015, val acc: 0.748 (best 0.760), test acc: 0.767 (best 0.763)\n",
      "In epoch 85, loss: 0.013, val acc: 0.750 (best 0.760), test acc: 0.766 (best 0.763)\n",
      "In epoch 90, loss: 0.011, val acc: 0.748 (best 0.760), test acc: 0.766 (best 0.763)\n",
      "In epoch 95, loss: 0.010, val acc: 0.748 (best 0.760), test acc: 0.766 (best 0.763)\n",
      "In epoch 100, loss: 0.009, val acc: 0.746 (best 0.760), test acc: 0.766 (best 0.763)\n",
      "In epoch 105, loss: 0.008, val acc: 0.748 (best 0.760), test acc: 0.765 (best 0.763)\n",
      "In epoch 110, loss: 0.008, val acc: 0.748 (best 0.760), test acc: 0.766 (best 0.763)\n",
      "In epoch 115, loss: 0.007, val acc: 0.750 (best 0.760), test acc: 0.765 (best 0.763)\n",
      "In epoch 120, loss: 0.006, val acc: 0.748 (best 0.760), test acc: 0.766 (best 0.763)\n",
      "In epoch 125, loss: 0.006, val acc: 0.748 (best 0.760), test acc: 0.766 (best 0.763)\n",
      "In epoch 130, loss: 0.006, val acc: 0.748 (best 0.760), test acc: 0.766 (best 0.763)\n",
      "In epoch 135, loss: 0.005, val acc: 0.748 (best 0.760), test acc: 0.766 (best 0.763)\n",
      "In epoch 140, loss: 0.005, val acc: 0.748 (best 0.760), test acc: 0.766 (best 0.763)\n",
      "In epoch 145, loss: 0.005, val acc: 0.748 (best 0.760), test acc: 0.766 (best 0.763)\n",
      "In epoch 150, loss: 0.004, val acc: 0.748 (best 0.760), test acc: 0.766 (best 0.763)\n",
      "In epoch 155, loss: 0.004, val acc: 0.748 (best 0.760), test acc: 0.765 (best 0.763)\n",
      "In epoch 160, loss: 0.004, val acc: 0.748 (best 0.760), test acc: 0.765 (best 0.763)\n",
      "In epoch 165, loss: 0.004, val acc: 0.748 (best 0.760), test acc: 0.764 (best 0.763)\n",
      "In epoch 170, loss: 0.004, val acc: 0.748 (best 0.760), test acc: 0.764 (best 0.763)\n",
      "In epoch 175, loss: 0.003, val acc: 0.748 (best 0.760), test acc: 0.766 (best 0.763)\n",
      "In epoch 180, loss: 0.003, val acc: 0.750 (best 0.760), test acc: 0.766 (best 0.763)\n",
      "In epoch 185, loss: 0.003, val acc: 0.750 (best 0.760), test acc: 0.766 (best 0.763)\n",
      "In epoch 190, loss: 0.003, val acc: 0.750 (best 0.760), test acc: 0.766 (best 0.763)\n",
      "In epoch 195, loss: 0.003, val acc: 0.750 (best 0.760), test acc: 0.766 (best 0.763)\n"
     ]
    }
   ],
   "source": [
    "class Model(nn.Module):\n",
    "    def __init__(self, in_feats, h_feats, num_classes):\n",
    "        super(Model, self).__init__()\n",
    "        self.conv1 = WeightedSAGEConv(in_feats, h_feats)\n",
    "        self.conv2 = WeightedSAGEConv(h_feats, num_classes)\n",
    "\n",
    "    def forward(self, g, in_feat):\n",
    "        h = self.conv1(g, in_feat, torch.ones(g.num_edges(), 1).to(g.device))\n",
    "        h = F.relu(h)\n",
    "        h = self.conv2(g, h, torch.ones(g.num_edges(), 1).to(g.device))\n",
    "        return h\n",
    "\n",
    "model = Model(g.ndata['feat'].shape[1], 16, dataset.num_classes)\n",
    "train(g, model)"
   ]
  }
 ],
 "metadata": {
  "kernelspec": {
   "display_name": ".venv",
   "language": "python",
   "name": "python3"
  },
  "language_info": {
   "codemirror_mode": {
    "name": "ipython",
    "version": 3
   },
   "file_extension": ".py",
   "mimetype": "text/x-python",
   "name": "python",
   "nbconvert_exporter": "python",
   "pygments_lexer": "ipython3",
   "version": "3.11.9"
  }
 },
 "nbformat": 4,
 "nbformat_minor": 2
}
