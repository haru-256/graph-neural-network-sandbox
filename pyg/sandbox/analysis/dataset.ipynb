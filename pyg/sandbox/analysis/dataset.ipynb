{
 "cells": [
  {
   "cell_type": "code",
   "execution_count": null,
   "metadata": {},
   "outputs": [],
   "source": [
    "import sys\n",
    "\n",
    "sys.path.append(\"..\")"
   ]
  },
  {
   "cell_type": "code",
   "execution_count": null,
   "metadata": {},
   "outputs": [],
   "source": [
    "import matplotlib.pyplot as plt\n",
    "import networkx as nx\n",
    "from data.dataset import MyKarateClub\n",
    "from torch_geometric.loader import LinkNeighborLoader\n",
    "from torch_geometric.sampler import NegativeSampling\n",
    "from torch_geometric.transforms import RandomLinkSplit\n",
    "from torch_geometric.utils import to_networkx"
   ]
  },
  {
   "cell_type": "markdown",
   "metadata": {},
   "source": [
    "## Dataset Overview"
   ]
  },
  {
   "cell_type": "code",
   "execution_count": null,
   "metadata": {},
   "outputs": [],
   "source": [
    "dataset = MyKarateClub()\n",
    "\n",
    "dataset.data"
   ]
  },
  {
   "cell_type": "code",
   "execution_count": null,
   "metadata": {},
   "outputs": [],
   "source": [
    "dataset.get_summary()"
   ]
  },
  {
   "cell_type": "code",
   "execution_count": null,
   "metadata": {},
   "outputs": [],
   "source": [
    "G = to_networkx(dataset.data)\n",
    "nx.draw(G, with_labels=True, pos=nx.spiral_layout(G))"
   ]
  },
  {
   "cell_type": "markdown",
   "metadata": {},
   "source": [
    "## Edge Split into train/val/test for Link Prediction"
   ]
  },
  {
   "cell_type": "code",
   "execution_count": null,
   "metadata": {},
   "outputs": [],
   "source": [
    "transform = RandomLinkSplit(\n",
    "    is_undirected=True, split_labels=False, add_negative_train_samples=False\n",
    ")\n",
    "train_data, val_data, test_data = transform(dataset.data)"
   ]
  },
  {
   "cell_type": "code",
   "execution_count": null,
   "metadata": {},
   "outputs": [],
   "source": [
    "fig, axes = plt.subplots(3, 1, figsize=(5, 15))\n",
    "\n",
    "for data, ax in zip([train_data, val_data, test_data], axes.flatten()):\n",
    "    G = to_networkx(data)\n",
    "    label = {id: dataset.node_index_map[id] for id in data.x.squeeze().tolist()}\n",
    "    nx.draw(G, ax=ax, label=label, with_labels=True, pos=nx.spiral_layout(G))\n",
    "    print(data)"
   ]
  },
  {
   "cell_type": "markdown",
   "metadata": {},
   "source": [
    "# Link Neighbor Loader"
   ]
  },
  {
   "cell_type": "code",
   "execution_count": null,
   "metadata": {},
   "outputs": [],
   "source": [
    "train_loader = LinkNeighborLoader(\n",
    "    train_data,\n",
    "    num_neighbors=[10, 5],\n",
    "    edge_label_index=train_data.edge_label_index,\n",
    "    edge_label=train_data.edge_label,\n",
    "    batch_size=1,\n",
    "    shuffle=False,\n",
    "    neg_sampling=NegativeSampling(mode=\"binary\", amount=1),\n",
    ")\n",
    "val_loader = LinkNeighborLoader(\n",
    "    val_data,\n",
    "    num_neighbors=[10, 5],\n",
    "    edge_label_index=val_data.edge_label_index,\n",
    "    edge_label=val_data.edge_label,\n",
    "    batch_size=1,\n",
    "    shuffle=False,\n",
    "    # Do not sample negative edges for validation\n",
    "    # https://github.com/pyg-team/pytorch_geometric/discussions/9164\n",
    "    # but this parameter is duplicated\n",
    "    # https://pytorch-geometric.readthedocs.io/en/2.5.3/modules/loader.html?highlight=LinkNeighborLoader#torch_geometric.loader.LinkNeighborLoader\n",
    "    neg_sampling_ratio=0,\n",
    ")"
   ]
  },
  {
   "cell_type": "code",
   "execution_count": null,
   "metadata": {},
   "outputs": [],
   "source": [
    "for data in train_loader:\n",
    "    print(data.edge_label.unique(return_counts=True))"
   ]
  },
  {
   "cell_type": "code",
   "execution_count": null,
   "metadata": {},
   "outputs": [],
   "source": [
    "for data in val_loader:\n",
    "    print(data.edge_label.unique(return_counts=True))"
   ]
  },
  {
   "cell_type": "code",
   "execution_count": null,
   "metadata": {},
   "outputs": [],
   "source": [
    "batch = next(iter(train_loader))\n",
    "\n",
    "label = {id: dataset.node_index_map[id] for id in batch.n_id.tolist()}\n",
    "G = to_networkx(batch)\n",
    "nx.draw(G, label=label, with_labels=True, pos=nx.spiral_layout(G))"
   ]
  }
 ],
 "metadata": {
  "kernelspec": {
   "display_name": ".venv",
   "language": "python",
   "name": "python3"
  },
  "language_info": {
   "codemirror_mode": {
    "name": "ipython",
    "version": 3
   },
   "file_extension": ".py",
   "mimetype": "text/x-python",
   "name": "python",
   "nbconvert_exporter": "python",
   "pygments_lexer": "ipython3",
   "version": "3.11.9"
  }
 },
 "nbformat": 4,
 "nbformat_minor": 2
}
